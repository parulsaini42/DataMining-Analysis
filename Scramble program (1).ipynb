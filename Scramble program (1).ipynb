{
 "cells": [
  {
   "cell_type": "code",
   "execution_count": 3,
   "metadata": {},
   "outputs": [
    {
     "name": "stdout",
     "output_type": "stream",
     "text": [
      "This is a word scrambler program!\n",
      "Tihs is a wrod srcbleamr pgorarm! "
     ]
    }
   ],
   "source": [
    "import random\n",
    "\n",
    "def scramble(n):\n",
    "    words=n.split(\" \")\n",
    "    p=[]\n",
    "    no_shuffle=0\n",
    "    punctuations='''!()-[]{};:'\"\\,<>./?@#$%^&*_~'''\n",
    "    for w in words:\n",
    "        s=list(w)\n",
    "        p.clear()\n",
    "        #remove punctuations\n",
    "        for i in s:\n",
    "            if i in punctuations:\n",
    "                #store punctuations and its index if punctuation at end or beginning\n",
    "                if s.index(i)==0 or s.index(i)==len(s)-1:\n",
    "                                 p.append([s.index(i),i])   \n",
    "    \n",
    "        for j in p:\n",
    "             s.remove(j[1])\n",
    "        l=len(s)\n",
    "        count=0\n",
    "        #shuffle keeping first and last character intact\n",
    "        if l>=4:\n",
    "            for i in s:\n",
    "                count=count+1\n",
    "                if i in punctuations:\n",
    "                    #no shuffle if punctuation in middle\n",
    "                    break\n",
    "            mid=s[:]\n",
    "            if count==l:\n",
    "                #shuffle if no punctuation found in the middle \n",
    "                mid=s[1:-1]\n",
    "                random.shuffle(mid)\n",
    "                mid.insert(0,s[0])\n",
    "                mid.insert(l-1,s[l-1])\n",
    "            \n",
    "        else:\n",
    "            mid=s[:]\n",
    "        \n",
    "        #insert punctuations\n",
    "        for j in p:\n",
    "            mid.insert(j[0],j[1])\n",
    "    \n",
    "   \n",
    "        makeitastring = ''.join(map(str, mid))\n",
    "        print(makeitastring,end =\" \")\n",
    "    \n",
    "    \n",
    "#0utput1   \n",
    "n=input()\n",
    "scramble(n)     \n",
    "    \n",
    "            \n",
    "    "
   ]
  },
  {
   "cell_type": "code",
   "execution_count": 2,
   "metadata": {},
   "outputs": [
    {
     "name": "stdout",
     "output_type": "stream",
     "text": [
      "This is a word scrambler program!\n",
      "Tihs is a wrod sbmerlcar prgaorm! "
     ]
    }
   ],
   "source": [
    "#Output 2\n",
    "n=input()\n",
    "scramble(n)"
   ]
  },
  {
   "cell_type": "code",
   "execution_count": 3,
   "metadata": {},
   "outputs": [
    {
     "name": "stdout",
     "output_type": "stream",
     "text": [
      "Where is the abc.doc, xyz.html file?\n",
      "Wehre is the abc.doc, xyz.html flie? "
     ]
    }
   ],
   "source": [
    "#Output 3\n",
    "n=input()\n",
    "scramble(n)"
   ]
  },
  {
   "cell_type": "code",
   "execution_count": 8,
   "metadata": {},
   "outputs": [
    {
     "name": "stdout",
     "output_type": "stream",
     "text": [
      "Where is the abc.doc, xyz.html file?\n",
      "Whree is the abc.doc, xyz.html flie? "
     ]
    }
   ],
   "source": [
    "#Output 4\n",
    "n=input()\n",
    "scramble(n)"
   ]
  },
  {
   "cell_type": "code",
   "execution_count": 11,
   "metadata": {},
   "outputs": [
    {
     "name": "stdout",
     "output_type": "stream",
     "text": [
      "my email id is as follow: parulsaini@gmail.com\n",
      "my eimal id is as floolw: parulsaini@gmail.com "
     ]
    }
   ],
   "source": [
    "#Output 5\n",
    "n=input()\n",
    "scramble(n)"
   ]
  },
  {
   "cell_type": "code",
   "execution_count": 4,
   "metadata": {},
   "outputs": [
    {
     "name": "stdout",
     "output_type": "stream",
     "text": [
      "Your's Sincerely, Parul_Saini\n",
      "Your's Senlircey, Parul_Saini "
     ]
    }
   ],
   "source": [
    "#Output 6\n",
    "n=input()\n",
    "scramble(n)"
   ]
  },
  {
   "cell_type": "code",
   "execution_count": null,
   "metadata": {},
   "outputs": [],
   "source": []
  },
  {
   "cell_type": "code",
   "execution_count": null,
   "metadata": {},
   "outputs": [],
   "source": []
  }
 ],
 "metadata": {
  "kernelspec": {
   "display_name": "Python 3",
   "language": "python",
   "name": "python3"
  },
  "language_info": {
   "codemirror_mode": {
    "name": "ipython",
    "version": 3
   },
   "file_extension": ".py",
   "mimetype": "text/x-python",
   "name": "python",
   "nbconvert_exporter": "python",
   "pygments_lexer": "ipython3",
   "version": "3.6.4"
  }
 },
 "nbformat": 4,
 "nbformat_minor": 2
}

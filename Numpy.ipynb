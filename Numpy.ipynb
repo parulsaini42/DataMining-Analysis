{
 "cells": [
  {
   "cell_type": "markdown",
   "metadata": {},
   "source": [
    "Q1. Create a function to check whether numpy array has Zero values or not."
   ]
  },
  {
   "cell_type": "code",
   "execution_count": 30,
   "metadata": {},
   "outputs": [
    {
     "name": "stdout",
     "output_type": "stream",
     "text": [
      "array generated is\n",
      "[ 64 185   0  22 193 117   6 151  92 106]\n",
      "0 present in array\n"
     ]
    }
   ],
   "source": [
    "import numpy as np\n",
    "def check(a):\n",
    "    if 0 in a:\n",
    "        print(\"0 present in array\")\n",
    "    else:\n",
    "        print(\"0 not in array\")\n",
    "        \n",
    "a=np.random.randint(low=0,high=200,size=10)\n",
    "print(\"array generated is\")\n",
    "print(a)\n",
    "check(a)\n"
   ]
  },
  {
   "cell_type": "markdown",
   "metadata": {},
   "source": [
    "Q2.Consider an array contains marks of students. Find the median and mean of students who got passing marks."
   ]
  },
  {
   "cell_type": "code",
   "execution_count": 53,
   "metadata": {},
   "outputs": [
    {
     "name": "stdout",
     "output_type": "stream",
     "text": [
      "original list of marks is [19 23 82 28 98 28 65 19 62 83 86  8 81  9 32 44 38 50 22 20]\n",
      "list of passing marks [82 98 65 62 83 86 81 44 38 50]\n",
      "median of marks of students with passing marks 73.0\n",
      "mean of marks of students with passing marks 68.9\n"
     ]
    }
   ],
   "source": [
    "import numpy as np    \n",
    "a=np.random.randint(low=5,high=100,size=20)\n",
    "print(\"original list of marks is\",a)\n",
    "c=0\n",
    "for x in a:\n",
    "        if x<40:\n",
    "            a=np.delete(a,c)\n",
    "        else:\n",
    "            c=c+1\n",
    "print(\"list of passing marks\",a)\n",
    "median=np.median(a)\n",
    "mean=np.mean(a)\n",
    "print(\"median of marks of students with passing marks\",median)\n",
    "print(\"mean of marks of students with passing marks\",mean)\n"
   ]
  },
  {
   "cell_type": "markdown",
   "metadata": {},
   "source": [
    "Q3.Consider an array containing date of birth of students (Use np.datetime64('2018-02-01')). Find the age of all students. If age is 18 label it First, if it is 19, label it Second, if it is 20, label it Third, if it is 21, label it Fourth."
   ]
  },
  {
   "cell_type": "code",
   "execution_count": 90,
   "metadata": {},
   "outputs": [
    {
     "name": "stdout",
     "output_type": "stream",
     "text": [
      "ages obtained are ['21' '19' '21' '18' '18']\n",
      "1998-02-04 Fourth\n",
      "1999-04-03 Second\n",
      "1997-05-02 Fourth\n",
      "2001-02-01 First\n",
      "2000-03-04 First\n"
     ]
    }
   ],
   "source": [
    "import numpy as np    \n",
    "labels={'18':'First','19':'Second','20':'Third','21':'Fourth'}    \n",
    "dob=np.array(['1998-02-04','1999-04-03','1997-05-02','2001-02-01','2000-03-04'],dtype='datetime64')\n",
    "today=np.datetime64('2019-02-11')\n",
    "diff=[]\n",
    "for i in range(len(dob)):\n",
    "    diff.append(str((today-dob[i])/365).replace(' days',''))\n",
    "    \n",
    "d=np.array(diff)\n",
    "print(\"ages obtained are\",d)\n",
    "for index,i in enumerate(d):\n",
    "    if i in labels:\n",
    "        print(dob[index],labels[i])\n",
    "\n"
   ]
  },
  {
   "cell_type": "markdown",
   "metadata": {},
   "source": [
    "Q4.Create a function to sort 2d Array by a column."
   ]
  },
  {
   "cell_type": "code",
   "execution_count": 12,
   "metadata": {},
   "outputs": [
    {
     "name": "stdout",
     "output_type": "stream",
     "text": [
      "enter column to sort1\n",
      "original matrix\n",
      "[['sarah' '17' '80']\n",
      " ['neha' '20' '65']\n",
      " ['priya' '15' '90']\n",
      " ['akanksha' '21' '75']]\n",
      "after sort\n",
      "[['priya' '15' '90']\n",
      " ['sarah' '17' '80']\n",
      " ['neha' '20' '65']\n",
      " ['akanksha' '21' '75']]\n"
     ]
    }
   ],
   "source": [
    "import numpy as np\n",
    "\n",
    "def sort_col(c,a):\n",
    "    #for all rows and column c : [a[:,c].argsort()] we get a list of of index of rows in sorted order\n",
    "    a = a[a[:,c].argsort()] \n",
    "    return a\n",
    "    \n",
    "a=np.array([['sarah','17','80'],['neha','20','65'],['priya','15','90'],['akanksha','21','75']])\n",
    "c=int(input(\"enter column to sort\"))\n",
    "print(\"original matrix\")\n",
    "print(a)\n",
    "print(\"after sort\")\n",
    "print(sort_col(c,a))\n",
    "    \n",
    "    "
   ]
  },
  {
   "cell_type": "markdown",
   "metadata": {},
   "source": [
    "Q5.Create one hot encoding of an array. For example For an array([2, 3, 2, 2, 2, 1]) Output should be\n",
    "\n",
    "   array([[ 0.,  1.,  0.],\n",
    "\n",
    "             [ 0.,  0.,  1.],\n",
    "\n",
    "             [ 0.,  1.,  0.],\n",
    "\n",
    "             [ 0.,  1.,  0.],\n",
    "\n",
    "             [ 0.,  1.,  0.],\n",
    "\n",
    "            [ 1.,  0.,  0.]])"
   ]
  },
  {
   "cell_type": "code",
   "execution_count": 76,
   "metadata": {},
   "outputs": [
    {
     "name": "stdout",
     "output_type": "stream",
     "text": [
      "[3 3 3 2]\n",
      "one hot encoding is as follow\n",
      "[[0. 0. 1. 0.]\n",
      " [0. 0. 1. 0.]\n",
      " [0. 0. 1. 0.]\n",
      " [0. 1. 0. 0.]]\n"
     ]
    }
   ],
   "source": [
    "import numpy as np\n",
    "a=np.random.randint(low=1,high=4,size=4)\n",
    "l=[]\n",
    "print(a)\n",
    "for index,i in enumerate(a):\n",
    "        b = np.zeros(4)\n",
    "        b[i-1]=1\n",
    "        l.append(list(b))\n",
    "print(\"one hot encoding is as follow\")\n",
    "c=np.array(l)\n",
    "print(c)"
   ]
  },
  {
   "cell_type": "markdown",
   "metadata": {},
   "source": [
    "Q6.Drop all missing values from an array Input: np.array([1,2,3,np.nan,5,6,7,np.nan]) Desired Output: array([ 1.,2.,3.,5.,6.,7.])"
   ]
  },
  {
   "cell_type": "code",
   "execution_count": 45,
   "metadata": {},
   "outputs": [
    {
     "name": "stdout",
     "output_type": "stream",
     "text": [
      "[1 2 3 5 6 7]\n"
     ]
    }
   ],
   "source": [
    "import numpy as np\n",
    "a=np.array([1,2,3,np.nan,5,6,7,np.nan])\n",
    "c=0\n",
    "for i in a:\n",
    "    if np.isnan(i)==True:\n",
    "        a=np.delete(a,c)\n",
    "    else:\n",
    "        c=c+1\n",
    "b=np.array(a,dtype='int')        \n",
    "print(b)"
   ]
  },
  {
   "cell_type": "markdown",
   "metadata": {},
   "source": [
    "Q7.Find Local maxima from an array. Input: a = np.array([1, 3, 7, 1, 2, 6, 0, 1]) Desired Output: array([2, 5])"
   ]
  },
  {
   "cell_type": "code",
   "execution_count": 77,
   "metadata": {},
   "outputs": [
    {
     "name": "stdout",
     "output_type": "stream",
     "text": [
      "[ 5 13  8 16 14 12  5 19  6 19]\n",
      "array of local maximas is [1 3 7 9]\n"
     ]
    }
   ],
   "source": [
    "import numpy as np    \n",
    "maxima=[]\n",
    "a=np.random.randint(low=0,high=20,size=10)\n",
    "print(a)\n",
    "for index,i in enumerate(a):\n",
    "    if index==0:\n",
    "        if a[index]>a[index+1]:\n",
    "            maxima.append(index)\n",
    "   \n",
    "    elif index!=len(a)-1 and index!=0:\n",
    "            if a[index]>a[index+1] and a[index-1]<a[index]:\n",
    "                  maxima.append(index)\n",
    "    \n",
    "    elif index==len(a)-1:\n",
    "          if a[index-1]<a[index]:\n",
    "                 maxima.append(index)\n",
    "\n",
    "b=np.array(maxima)\n",
    "print(\"array of local maximas is\",b)\n",
    "\n"
   ]
  },
  {
   "cell_type": "markdown",
   "metadata": {},
   "source": [
    "Q8.From a given 1d array arr, generate a 2d matrix using strides,\n",
    "\n",
    "For example for an array ([ 0,  1,  2,  3,  4,  5,  6,  7,  8,  9, 10, 11, 12, 13, 14])with a window length of w=4 and strides of s=2, like [[0,1,2,3], [2,3,4,5], [4,5,6,7]..]\n",
    "\n",
    "w and s will be provided by user."
   ]
  },
  {
   "cell_type": "code",
   "execution_count": 79,
   "metadata": {},
   "outputs": [
    {
     "name": "stdout",
     "output_type": "stream",
     "text": [
      "Enter window size4\n",
      "Enter stride size2\n",
      "[[0, 1, 2, 3], [2, 3, 4, 5], [4, 5, 6, 7], [6, 7, 8, 9], [8, 9, 10, 11], [10, 11, 12, 13], [12, 13, 14]]\n"
     ]
    }
   ],
   "source": [
    "import numpy as np\n",
    "a=np.array([ 0,  1,  2,  3,  4,  5,  6,  7,  8,  9, 10, 11, 12, 13, 14])\n",
    "w=int(input('Enter window size'))\n",
    "s=int(input('Enter stride size'))\n",
    "p=0\n",
    "win=0\n",
    "l=[]\n",
    "while p<len(a)-s:\n",
    "    win=p+w\n",
    "    l.append(list(a[p:win]))\n",
    "    p=p+s\n",
    "\n",
    "print(l)"
   ]
  },
  {
   "cell_type": "code",
   "execution_count": null,
   "metadata": {},
   "outputs": [],
   "source": []
  },
  {
   "cell_type": "code",
   "execution_count": null,
   "metadata": {},
   "outputs": [],
   "source": []
  }
 ],
 "metadata": {
  "kernelspec": {
   "display_name": "Python 3",
   "language": "python",
   "name": "python3"
  },
  "language_info": {
   "codemirror_mode": {
    "name": "ipython",
    "version": 3
   },
   "file_extension": ".py",
   "mimetype": "text/x-python",
   "name": "python",
   "nbconvert_exporter": "python",
   "pygments_lexer": "ipython3",
   "version": "3.6.4"
  }
 },
 "nbformat": 4,
 "nbformat_minor": 2
}

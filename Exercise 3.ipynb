{
 "cells": [
  {
   "cell_type": "markdown",
   "metadata": {},
   "source": [
    "Q1. Write a program to sort the (name, age, height) tuples by ascending order where name is string, age and height are numbers. The tuples are input by console. The sort criteria is: 1: Sort based on name; 2: Then sort based on age; 3: Then sort by score. The priority is that name > age > score."
   ]
  },
  {
   "cell_type": "code",
   "execution_count": 1,
   "metadata": {},
   "outputs": [
    {
     "name": "stdout",
     "output_type": "stream",
     "text": [
      "how many sublists would you like to add\n",
      "5\n",
      "Tom\n",
      "19\n",
      "80\n",
      "John\n",
      "20\n",
      "90\n",
      "Jony\n",
      "17\n",
      "93\n",
      "Jony\n",
      "17\n",
      "91\n",
      "Json\n",
      "21\n",
      "85\n",
      "before sort\n",
      "[('Tom', '19', '80'), ('John', '20', '90'), ('Jony', '17', '93'), ('Jony', '17', '91'), ('Json', '21', '85')]\n",
      "after sort: name>age>score\n",
      "[('John', '20', '90'), ('Jony', '17', '91'), ('Jony', '17', '93'), ('Json', '21', '85'), ('Tom', '19', '80')]\n"
     ]
    }
   ],
   "source": [
    "import math\n",
    "import operator\n",
    "n=[]\n",
    "print(\"how many sublists would you like to add\")\n",
    "s=int(input())\n",
    "for i in range(s):\n",
    "    a=[]\n",
    "    for i in range(3):\n",
    "        item=input()\n",
    "        a.append(item)\n",
    "    n.append(tuple(a))\n",
    "print(\"before sort\")\n",
    "print(n)\n",
    "print(\"after sort: name>age>score\")\n",
    "n=sorted(n, key = operator.itemgetter(0,1, 2))\n",
    "print(n)\n"
   ]
  },
  {
   "cell_type": "markdown",
   "metadata": {},
   "source": [
    "Q2. Write a Python program to find the list in a list of lists whose sum of elements is the highest. "
   ]
  },
  {
   "cell_type": "code",
   "execution_count": 2,
   "metadata": {},
   "outputs": [
    {
     "name": "stdout",
     "output_type": "stream",
     "text": [
      "how many sublists would you like to add\n",
      "4\n",
      "number of element in sub list\n",
      "3\n",
      "1\n",
      "2\n",
      "3\n",
      "number of element in sub list\n",
      "3\n",
      "4\n",
      "5\n",
      "6\n",
      "number of element in sub list\n",
      "3\n",
      "10\n",
      "11\n",
      "12\n",
      "number of element in sub list\n",
      "3\n",
      "7\n",
      "8\n",
      "9\n",
      "list is [[1, 2, 3], [4, 5, 6], [10, 11, 12], [7, 8, 9]]\n",
      "List with highest sum of elements is [10, 11, 12]\n"
     ]
    }
   ],
   "source": [
    "import math\n",
    "n=[]\n",
    "print(\"how many sublists would you like to add\")\n",
    "s=int(input())\n",
    "for i in range(s):\n",
    "    a=[]\n",
    "    print(\"number of element in sub list\")\n",
    "    sub=int(input())\n",
    "    for i in range(sub):\n",
    "        item=int(input())\n",
    "        a.append(item) \n",
    "    n.append(a)\n",
    "print(\"list is\",n)\n",
    "sum_list=0\n",
    "for i in n:\n",
    "    if sum(i)>sum_list:\n",
    "        ans=i\n",
    "        sum_list=sum(i)\n",
    "        \n",
    "print(\"List with highest sum of elements is\",ans)"
   ]
  },
  {
   "cell_type": "markdown",
   "metadata": {},
   "source": [
    "Q3. Write a Python program to check whether a list contains a sublist."
   ]
  },
  {
   "cell_type": "code",
   "execution_count": 47,
   "metadata": {},
   "outputs": [
    {
     "name": "stdout",
     "output_type": "stream",
     "text": [
      "found [4, 1]\n",
      "not found [2, 4]\n",
      "found [[[4, 1]], 3]\n"
     ]
    }
   ],
   "source": [
    "\n",
    "def check(j,i):\n",
    "    global flag\n",
    "    for k in j:\n",
    "        if flag==1:\n",
    "            break\n",
    "        c=type(k)\n",
    "        if c==type(i):\n",
    "            if i==k:\n",
    "                flag=1\n",
    "                break\n",
    "            else:\n",
    "                check(k,i)\n",
    "    return\n",
    "    \n",
    "def program(n,i):\n",
    "    global flag\n",
    "    flag=0\n",
    "    check(n,i)\n",
    "    if flag==1:\n",
    "        print(\"found\",i)\n",
    "    else:\n",
    "        print(\"not found\",i)\n",
    "\n",
    "if __name__ == \"__main__\":\n",
    "    n=[[2,4,[4,1]],[2,1],[[[[4,1]],3]]]\n",
    "    s1=[4,1]\n",
    "    s2=[2,4]\n",
    "    s3=[[[4,1]],3]\n",
    "    flag=0\n",
    "    program(n,s1)\n",
    "    program(n,s2)\n",
    "    program(n,s3)\n",
    "    \n",
    "    \n",
    "        \n",
    "\n",
    "\n",
    "\n",
    "\n",
    "\n"
   ]
  }
 ],
 "metadata": {
  "kernelspec": {
   "display_name": "Python 3",
   "language": "python",
   "name": "python3"
  },
  "language_info": {
   "codemirror_mode": {
    "name": "ipython",
    "version": 3
   },
   "file_extension": ".py",
   "mimetype": "text/x-python",
   "name": "python",
   "nbconvert_exporter": "python",
   "pygments_lexer": "ipython3",
   "version": "3.6.4"
  }
 },
 "nbformat": 4,
 "nbformat_minor": 2
}

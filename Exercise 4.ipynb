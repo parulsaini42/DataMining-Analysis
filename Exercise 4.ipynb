{
 "cells": [
  {
   "cell_type": "markdown",
   "metadata": {},
   "source": [
    "Question 1: Calculate Word Frequencies. Take a set of sentences in a string as an input. Count each unique occurrence of a word and calculate frequency of occurrence and store in a dictionary. Produce a frequency table."
   ]
  },
  {
   "cell_type": "code",
   "execution_count": 7,
   "metadata": {},
   "outputs": [
    {
     "name": "stdout",
     "output_type": "stream",
     "text": [
      "hello, i am parul; nice to meet you parul, how have you been parul?\n",
      "Frequency Table\n",
      "     Word  Frequency\n",
      "0   hello          1\n",
      "1       i          1\n",
      "2      am          1\n",
      "3   parul          3\n",
      "4    nice          1\n",
      "5      to          1\n",
      "6    meet          1\n",
      "7     you          2\n",
      "8     how          1\n",
      "9    have          1\n",
      "10   been          1\n"
     ]
    }
   ],
   "source": [
    "import pandas as pd\n",
    "import string\n",
    "n=input()\n",
    "#remove punctuations\n",
    "for c in string.punctuation:\n",
    "    n= n.replace(c,\"\")\n",
    "n=n.split(\" \")\n",
    "dic={}\n",
    "for v in n:\n",
    "    if v not in dic:\n",
    "        dic[v]=1\n",
    "    else:\n",
    "        dic[v]=dic[v]+1\n",
    "#print frequency table using dataframe\n",
    "print(\"Frequency Table\")\n",
    "df=pd.DataFrame(list(dic.items()), columns=['Word', 'Frequency'])\n",
    "print(df)\n",
    "\n"
   ]
  },
  {
   "cell_type": "markdown",
   "metadata": {},
   "source": [
    "Question 2:Find total marks of each students and display full name of student with total marks secured."
   ]
  },
  {
   "cell_type": "code",
   "execution_count": 7,
   "metadata": {},
   "outputs": [
    {
     "name": "stdout",
     "output_type": "stream",
     "text": [
      "Name Marks\n",
      "Avish 258\n",
      "Bhavya 218\n",
      "Tanya 179\n",
      "Neetu 155\n",
      "Riya 90\n",
      "Mahi 145\n",
      "Sudha 80\n",
      "Tina 155\n",
      "Neha 156\n",
      "Heena 55\n"
     ]
    }
   ],
   "source": [
    "\n",
    "Student = { 'UE183001': 'Avish', 'UE183002': 'Bhavya', 'UE183003': 'Tanya','UE183004': 'Neetu','UE183005': 'Riya',\n",
    "           'UE183006': 'Mahi', 'UE183007': 'Sudha', 'UE183008': 'Tina','UE183009': 'Neha','UE183010': 'Heena'\n",
    "          } \n",
    "Marks = [('UE183001', 'CS', 94 ), ('UE183002', 'CS', 64 ), ('UE183001', 'RV', 94), ('UE183002', 'EE', 74),\n",
    "         ('UE183003', 'CS', 64),('UE183001', 'EE', 70 ),('UE183002', 'RV', 80 ),('UE183003', 'EE', 50 ),\n",
    "         ('UE183003', 'RV', 65 ),('UE183004', 'RV', 65 ),('UE183004', 'CS', 90 ),('UE183005', 'CS', 90 ),\n",
    "         ('UE183006', 'RV', 80 ),('UE183006', 'CS', 65 ),('UE183007', 'CS', 80 ),('UE183008', 'EE', 90 ),\n",
    "         ('UE183008', 'CS', 65 ),('UE183009', 'CS', 100 ),('UE183009', 'EE', 56 ),('UE183010', 'CS', 55 ),\n",
    "        ]\n",
    "Total={}\n",
    "Result={}\n",
    "for i in Marks:\n",
    "    j=i[0]\n",
    "    m=Marks.index(i)\n",
    "    if j not in Total:\n",
    "        Total[j]=Marks[m][2]\n",
    "    else:\n",
    "        Total[j]=Total[j]+Marks[m][2]\n",
    "\n",
    "for i in Total:\n",
    "    Result[i]=Student[i],Total[i]\n",
    "print(\"Name Marks\")\n",
    "for i in  Result:\n",
    "    print(Result[i][0],Result[i][1])"
   ]
  },
  {
   "cell_type": "markdown",
   "metadata": {},
   "source": [
    "Question 3: Create a function which uses string operations to split the date into 3 items using the \"-\" character. Translate the month, correct the year to include all of the digits.The function will accept a date in the \"dd-MMM-yy\" format and respond with a tuple of ( y , m , d )."
   ]
  },
  {
   "cell_type": "code",
   "execution_count": 5,
   "metadata": {},
   "outputs": [
    {
     "name": "stdout",
     "output_type": "stream",
     "text": [
      "dd-MMM-yy04-JUN-00\n",
      "Output in form :(yyyy,mm,dd)\n",
      "('2000', '06', '04')\n"
     ]
    }
   ],
   "source": [
    "def correct(n):\n",
    "    for i in months:\n",
    "        if n[1]==i:\n",
    "            m=months[i]\n",
    "            d=n[0]\n",
    "            break\n",
    "    if 0<=int(n[2]) and int(n[2])<=19:\n",
    "        y='20'+n[2]\n",
    "    else:\n",
    "        y='19'+n[2]\n",
    "    \n",
    "    return(y,m,d)\n",
    "\n",
    "months={'JAN':'01','FEB':'02','MAR':'03','APR':'04','MAY':'05','JUN':'06','JUL':'07',\n",
    "        'AUG':'08','SEP':'09','OCT':'10','NOV':'11','DEC':'12'}\n",
    "n=input('dd-MMM-yy').split(\"-\")\n",
    "print(\"Output in form :(yyyy,mm,dd)\")\n",
    "print(correct(n))"
   ]
  },
  {
   "cell_type": "markdown",
   "metadata": {},
   "source": [
    "Question 4:Create a dict of all combinations, using the sum of the two dice as the key. Each value in the dict should be a list of tuples; each tuple has the value of two dice."
   ]
  },
  {
   "cell_type": "code",
   "execution_count": 37,
   "metadata": {
    "scrolled": true
   },
   "outputs": [
    {
     "name": "stdout",
     "output_type": "stream",
     "text": [
      "Key  Length    Combinations\n",
      "2     1       [(1, 1)]\n",
      "3     2       [(1, 2), (2, 1)]\n",
      "4     3       [(1, 3), (2, 2), (3, 1)]\n",
      "5     4       [(1, 4), (2, 3), (3, 2), (4, 1)]\n",
      "6     5       [(1, 5), (2, 4), (3, 3), (4, 2), (5, 1)]\n",
      "7     6       [(1, 6), (2, 5), (3, 4), (4, 3), (5, 2), (6, 1)]\n",
      "8     5       [(2, 6), (3, 5), (4, 4), (5, 3), (6, 2)]\n",
      "9     4       [(3, 6), (4, 5), (5, 4), (6, 3)]\n",
      "10     3       [(4, 6), (5, 5), (6, 4)]\n",
      "11     2       [(5, 6), (6, 5)]\n",
      "12     1       [(6, 6)]\n"
     ]
    }
   ],
   "source": [
    "\n",
    "dic={}\n",
    "for i in range(1,7):\n",
    "    for j in range(1,7):\n",
    "        s=i+j\n",
    "        if s not in dic:\n",
    "            dic[s]=[(i,j)]\n",
    "        else:\n",
    "            dic[s].append((i,j))\n",
    "print(\"Key  Length    Combinations\")\n",
    "for i in dic:\n",
    "    print(str(i)+\"     \"+str(len(dic[i]))+\"       \"+str(dic[i]))\n"
   ]
  },
  {
   "cell_type": "code",
   "execution_count": null,
   "metadata": {},
   "outputs": [],
   "source": []
  }
 ],
 "metadata": {
  "kernelspec": {
   "display_name": "Python 3",
   "language": "python",
   "name": "python3"
  },
  "language_info": {
   "codemirror_mode": {
    "name": "ipython",
    "version": 3
   },
   "file_extension": ".py",
   "mimetype": "text/x-python",
   "name": "python",
   "nbconvert_exporter": "python",
   "pygments_lexer": "ipython3",
   "version": "3.6.4"
  }
 },
 "nbformat": 4,
 "nbformat_minor": 2
}
